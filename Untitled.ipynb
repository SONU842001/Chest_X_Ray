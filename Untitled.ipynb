{
 "cells": [
  {
   "cell_type": "code",
   "execution_count": 4,
   "id": "88838d08",
   "metadata": {},
   "outputs": [
    {
     "ename": "ModuleNotFoundError",
     "evalue": "No module named 'flask_ngrok'",
     "output_type": "error",
     "traceback": [
      "\u001b[0;31m---------------------------------------------------------------------------\u001b[0m",
      "\u001b[0;31mModuleNotFoundError\u001b[0m                       Traceback (most recent call last)",
      "\u001b[0;32m<ipython-input-4-6b1882a85545>\u001b[0m in \u001b[0;36m<module>\u001b[0;34m\u001b[0m\n\u001b[1;32m     15\u001b[0m \u001b[0;32mimport\u001b[0m \u001b[0mtorch\u001b[0m\u001b[0;34m\u001b[0m\u001b[0;34m\u001b[0m\u001b[0m\n\u001b[1;32m     16\u001b[0m \u001b[0;32mfrom\u001b[0m \u001b[0mflask\u001b[0m \u001b[0;32mimport\u001b[0m \u001b[0mFlask\u001b[0m\u001b[0;34m\u001b[0m\u001b[0;34m\u001b[0m\u001b[0m\n\u001b[0;32m---> 17\u001b[0;31m \u001b[0;32mfrom\u001b[0m \u001b[0mflask_ngrok\u001b[0m \u001b[0;32mimport\u001b[0m \u001b[0mrun_with_ngrok\u001b[0m\u001b[0;34m\u001b[0m\u001b[0;34m\u001b[0m\u001b[0m\n\u001b[0m",
      "\u001b[0;31mModuleNotFoundError\u001b[0m: No module named 'flask_ngrok'"
     ]
    }
   ],
   "source": [
    "from flask import Flask, render_template, request, session, redirect, url_for, flash\n",
    "import os\n",
    "from werkzeug.utils import secure_filename\n",
    "import tensorflow as tf\n",
    "import keras\n",
    "from keras.models import load_model\n",
    "import matplotlib.pyplot as plt\n",
    "import cv2\n",
    "import numpy as np\n",
    "from torchvision import transforms\n",
    "import pickle\n",
    "from PIL import Image\n",
    "import torchvision\n",
    "import torch.nn as nn\n",
    "import torch\n",
    "from flask import Flask\n",
    "from flask_ngrok import run_with_ngrok"
   ]
  },
  {
   "cell_type": "code",
   "execution_count": 2,
   "id": "ee1e0418",
   "metadata": {},
   "outputs": [
    {
     "name": "stdout",
     "output_type": "stream",
     "text": [
      "Collecting torchvision\n",
      "  Using cached torchvision-0.15.0-cp38-cp38-macosx_10_9_x86_64.whl (1.5 MB)\n",
      "Requirement already satisfied: requests in /Users/sonukumar/opt/anaconda3/lib/python3.8/site-packages (from torchvision) (2.25.1)\n",
      "Requirement already satisfied: pillow!=8.3.*,>=5.3.0 in /Users/sonukumar/opt/anaconda3/lib/python3.8/site-packages (from torchvision) (8.2.0)\n",
      "Requirement already satisfied: numpy in /Users/sonukumar/opt/anaconda3/lib/python3.8/site-packages (from torchvision) (1.20.1)\n",
      "Collecting torch==2.0.0\n",
      "  Downloading torch-2.0.0-cp38-none-macosx_10_9_x86_64.whl (139.5 MB)\n",
      "\u001b[K     |████████████████████████████████| 139.5 MB 3.0 MB/s eta 0:00:01    |█████████▉                      | 42.7 MB 149 kB/s eta 0:10:49     |█████████████████▋              | 76.7 MB 64 kB/s eta 0:16:14     |█████████████████████████       | 109.1 MB 30 kB/s eta 0:16:41\n",
      "\u001b[?25hRequirement already satisfied: jinja2 in /Users/sonukumar/opt/anaconda3/lib/python3.8/site-packages (from torch==2.0.0->torchvision) (2.11.3)\n",
      "Requirement already satisfied: networkx in /Users/sonukumar/opt/anaconda3/lib/python3.8/site-packages (from torch==2.0.0->torchvision) (2.5)\n",
      "Requirement already satisfied: typing-extensions in /Users/sonukumar/opt/anaconda3/lib/python3.8/site-packages (from torch==2.0.0->torchvision) (3.7.4.3)\n",
      "Requirement already satisfied: filelock in /Users/sonukumar/opt/anaconda3/lib/python3.8/site-packages (from torch==2.0.0->torchvision) (3.9.0)\n",
      "Requirement already satisfied: sympy in /Users/sonukumar/opt/anaconda3/lib/python3.8/site-packages (from torch==2.0.0->torchvision) (1.8)\n",
      "Requirement already satisfied: MarkupSafe>=0.23 in /Users/sonukumar/opt/anaconda3/lib/python3.8/site-packages (from jinja2->torch==2.0.0->torchvision) (1.1.1)\n",
      "Requirement already satisfied: decorator>=4.3.0 in /Users/sonukumar/opt/anaconda3/lib/python3.8/site-packages (from networkx->torch==2.0.0->torchvision) (5.0.6)\n",
      "Requirement already satisfied: urllib3<1.27,>=1.21.1 in /Users/sonukumar/opt/anaconda3/lib/python3.8/site-packages (from requests->torchvision) (1.26.4)\n",
      "Requirement already satisfied: chardet<5,>=3.0.2 in /Users/sonukumar/opt/anaconda3/lib/python3.8/site-packages (from requests->torchvision) (4.0.0)\n",
      "Requirement already satisfied: idna<3,>=2.5 in /Users/sonukumar/opt/anaconda3/lib/python3.8/site-packages (from requests->torchvision) (2.10)\n",
      "Requirement already satisfied: certifi>=2017.4.17 in /Users/sonukumar/opt/anaconda3/lib/python3.8/site-packages (from requests->torchvision) (2022.12.7)\n",
      "Requirement already satisfied: mpmath>=0.19 in /Users/sonukumar/opt/anaconda3/lib/python3.8/site-packages (from sympy->torch==2.0.0->torchvision) (1.2.1)\n",
      "Installing collected packages: torch, torchvision\n",
      "Successfully installed torch-2.0.0 torchvision-0.15.0\n"
     ]
    }
   ],
   "source": [
    "\n"
   ]
  },
  {
   "cell_type": "code",
   "execution_count": null,
   "id": "1c5c4952",
   "metadata": {},
   "outputs": [],
   "source": []
  }
 ],
 "metadata": {
  "kernelspec": {
   "display_name": "Python 3",
   "language": "python",
   "name": "python3"
  },
  "language_info": {
   "codemirror_mode": {
    "name": "ipython",
    "version": 3
   },
   "file_extension": ".py",
   "mimetype": "text/x-python",
   "name": "python",
   "nbconvert_exporter": "python",
   "pygments_lexer": "ipython3",
   "version": "3.8.8"
  }
 },
 "nbformat": 4,
 "nbformat_minor": 5
}
