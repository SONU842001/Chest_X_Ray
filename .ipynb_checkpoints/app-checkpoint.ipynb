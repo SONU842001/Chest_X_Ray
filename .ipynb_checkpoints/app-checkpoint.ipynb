{
 "cells": [
  {
   "cell_type": "code",
   "execution_count": 7,
   "id": "c39fa843",
   "metadata": {},
   "outputs": [],
   "source": [
    "from flask import Flask, render_template, request, session, redirect, url_for, flash\n",
    "import os\n",
    "from werkzeug.utils import secure_filename\n",
    "import tensorflow as tf\n",
    "import keras\n",
    "from keras.models import load_model\n",
    "import matplotlib.pyplot as plt\n",
    "import cv2\n",
    "import numpy as np\n",
    "from torchvision import transforms\n",
    "import pickle\n",
    "from PIL import Image\n",
    "import torchvision\n",
    "import torch.nn as nn\n",
    "import torch\n",
    "from flask import Flask\n",
    "from flask_ngrok import run_with_ngrok"
   ]
  },
  {
   "cell_type": "code",
   "execution_count": 5,
   "id": "1325b1ec",
   "metadata": {},
   "outputs": [
    {
     "name": "stdout",
     "output_type": "stream",
     "text": [
      "Collecting flask_ngrok\n",
      "  Downloading flask_ngrok-0.0.25-py3-none-any.whl (3.1 kB)\n",
      "Requirement already satisfied: requests in /Users/sonukumar/opt/anaconda3/lib/python3.8/site-packages (from flask_ngrok) (2.25.1)\n",
      "Requirement already satisfied: Flask>=0.8 in /Users/sonukumar/opt/anaconda3/lib/python3.8/site-packages (from flask_ngrok) (1.1.2)\n",
      "Requirement already satisfied: click>=5.1 in /Users/sonukumar/opt/anaconda3/lib/python3.8/site-packages (from Flask>=0.8->flask_ngrok) (7.1.2)\n",
      "Requirement already satisfied: Jinja2>=2.10.1 in /Users/sonukumar/opt/anaconda3/lib/python3.8/site-packages (from Flask>=0.8->flask_ngrok) (2.11.3)\n",
      "Requirement already satisfied: itsdangerous>=0.24 in /Users/sonukumar/opt/anaconda3/lib/python3.8/site-packages (from Flask>=0.8->flask_ngrok) (1.1.0)\n",
      "Requirement already satisfied: Werkzeug>=0.15 in /Users/sonukumar/opt/anaconda3/lib/python3.8/site-packages (from Flask>=0.8->flask_ngrok) (1.0.1)\n",
      "Requirement already satisfied: MarkupSafe>=0.23 in /Users/sonukumar/opt/anaconda3/lib/python3.8/site-packages (from Jinja2>=2.10.1->Flask>=0.8->flask_ngrok) (1.1.1)\n",
      "Requirement already satisfied: idna<3,>=2.5 in /Users/sonukumar/opt/anaconda3/lib/python3.8/site-packages (from requests->flask_ngrok) (2.10)\n",
      "Requirement already satisfied: chardet<5,>=3.0.2 in /Users/sonukumar/opt/anaconda3/lib/python3.8/site-packages (from requests->flask_ngrok) (4.0.0)\n",
      "Requirement already satisfied: certifi>=2017.4.17 in /Users/sonukumar/opt/anaconda3/lib/python3.8/site-packages (from requests->flask_ngrok) (2022.12.7)\n",
      "Requirement already satisfied: urllib3<1.27,>=1.21.1 in /Users/sonukumar/opt/anaconda3/lib/python3.8/site-packages (from requests->flask_ngrok) (1.26.4)\n",
      "Installing collected packages: flask-ngrok\n",
      "Successfully installed flask-ngrok-0.0.25\n"
     ]
    }
   ],
   "source": [
    "\n",
    "\n"
   ]
  },
  {
   "cell_type": "code",
   "execution_count": null,
   "id": "28a9fa95",
   "metadata": {},
   "outputs": [],
   "source": []
  }
 ],
 "metadata": {
  "kernelspec": {
   "display_name": "Python 3",
   "language": "python",
   "name": "python3"
  },
  "language_info": {
   "codemirror_mode": {
    "name": "ipython",
    "version": 3
   },
   "file_extension": ".py",
   "mimetype": "text/x-python",
   "name": "python",
   "nbconvert_exporter": "python",
   "pygments_lexer": "ipython3",
   "version": "3.8.8"
  }
 },
 "nbformat": 4,
 "nbformat_minor": 5
}
